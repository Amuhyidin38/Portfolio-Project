{
 "cells": [
  {
   "cell_type": "markdown",
   "metadata": {},
   "source": [
    "# Customer Data Cleaning\n",
    "\n",
    "This notebook loads the raw customer data, applies cleaning transformations, and creates a cleaned dataset ready for analysis."
   ]
  },
  {
   "cell_type": "markdown",
   "metadata": {},
   "source": [
    "## Import Required Libraries"
   ]
  },
  {
   "cell_type": "code",
   "execution_count": null,
   "metadata": {},
   "outputs": [],
   "source": [
    "import pandas as pd\n",
    "import numpy as np\n",
    "from clean_data import clean_data  # Import the clean_data DataFrame from our script"
   ]
  },
  {
   "cell_type": "markdown",
   "metadata": {},
   "source": [
    "## Display the Cleaned Data\n",
    "\n",
    "The `clean_data` DataFrame has been created with the following cleaning operations applied:\n",
    "- Missing `time_spent` values replaced with the median\n",
    "- Missing `pages_viewed` values replaced with the mean (converted to integer)\n",
    "- Missing `basket_value` values replaced with 0\n",
    "- Missing `device_type` values replaced with \"Unknown\"\n",
    "- Missing `customer_type` values replaced with \"New\"\n",
    "- All data types properly set according to specifications"
   ]
  },
  {
   "cell_type": "code",
   "execution_count": null,
   "metadata": {},
   "outputs": [],
   "source": [
    "# Display the first few rows of the cleaned data\n",
    "print(\"First few rows of cleaned data:\")\n",
    "display(clean_data.head())"
   ]
  },
  {
   "cell_type": "code",
   "execution_count": null,
   "metadata": {},
   "outputs": [],
   "source": [
    "# Display information about the cleaned data\n",
    "print(\"\\nDataFrame info:\")\n",
    "clean_data.info()"
   ]
  },
  {
   "cell_type": "code",
   "execution_count": null,
   "metadata": {},
   "outputs": [],
   "source": [
    "# Display summary statistics\n",
    "print(\"\\nSummary statistics:\")\n",
    "display(clean_data.describe(include='all'))"
   ]
  },
  {
   "cell_type": "code",
   "execution_count": null,
   "metadata": {},
   "outputs": [],
   "source": [
    "# Check for any remaining missing values\n",
    "print(\"\\nMissing values in each column:\")\n",
    "print(clean_data.isnull().sum())"
   ]
  },
  {
   "cell_type": "markdown",
   "metadata": {},
   "source": [
    "## Data Validation\n",
    "\n",
    "Let's verify that all the data meets the specified criteria:"
   ]
  },
  {
   "cell_type": "code",
   "execution_count": null,
   "metadata": {},
   "outputs": [],
   "source": [
    "# Check data types\n",
    "print(\"\\nData types:\")\n",
    "print(clean_data.dtypes)\n",
    "\n",
    "# Check unique values for categorical columns\n",
    "print(\"\\nUnique device types:\", clean_data['device_type'].unique())\n",
    "print(\"Unique customer types:\", clean_data['customer_type'].unique())\n",
    "print(\"Unique purchase values:\", clean_data['purchase'].unique())"
   ]
  },
  {
   "cell_type": "markdown",
   "metadata": {},
   "source": [
    "The cleaned data is now ready for analysis. The `clean_data` DataFrame contains all the required columns with the specified data types and missing value handling applied."
   ]
  }
 ],
 "metadata": {
  "kernelspec": {
   "display_name": "Python 3",
   "language": "python",
   "name": "python3"
  },
  "language_info": {
   "codemirror_mode": {
    "name": "ipython",
    "version": 3
   },
   "file_extension": ".py",
   "mimetype": "text/x-python",
   "name": "python",
   "nbconvert_exporter": "python",
   "pygments_lexer": "ipython3",
   "version": "3.8.0"
  }
 },
 "nbformat": 4,
 "nbformat_minor": 4
}
